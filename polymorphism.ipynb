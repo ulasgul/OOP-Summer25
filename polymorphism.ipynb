{
  "cells": [
    {
      "cell_type": "markdown",
      "id": "cb264347-5074-40ec-b4aa-65f5f3ff61ce",
      "metadata": {},
      "source": [
        "# Polymorphism\n",
        "Polymorphism allows different classes to define methods with the same name but different behavior.\n"
      ]
    },
    {
      "cell_type": "markdown",
      "id": "12ef3218-1122-49e2-ae06-60455feb4e5b",
      "metadata": {},
      "source": [
        "## Base class: Shape\n"
      ]
    },
    {
      "cell_type": "code",
      "execution_count": null,
      "id": "381b2568-c35e-402d-b1f6-0f93de2b70de",
      "metadata": {
        "trusted": true
      },
      "outputs": [],
      "source": [
        "class Shape:\n",
        "    def area(self):\n",
        "        print(\"Area is undefined\")\n"
      ]
    },
    {
      "cell_type": "markdown",
      "id": "96093ed4-4cf2-49aa-b1c8-50c0ec56360a",
      "metadata": {},
      "source": [
        "## Subclass: Square\n"
      ]
    },
    {
      "cell_type": "code",
      "execution_count": null,
      "id": "eeae6ddd-26da-4820-b3dc-5eb2a58f7eda",
      "metadata": {
        "trusted": true
      },
      "outputs": [],
      "source": [
        "class Square(Shape):\n",
        "    def __init__(self, side):\n",
        "        self.side = side\n",
        "\n",
        "    def area(self):\n",
        "        print(f\"Square area: {self.side * self.side}\")\n"
      ]
    },
    {
      "cell_type": "markdown",
      "id": "9ea0656d-e44d-4285-86b4-90601cca2921",
      "metadata": {},
      "source": [
        "## Subclass: Circle\n"
      ]
    },
    {
      "cell_type": "code",
      "execution_count": null,
      "id": "bd16df23-1aac-4231-9bba-87fba7bdb692",
      "metadata": {
        "trusted": true
      },
      "outputs": [],
      "source": [
        "class Circle(Shape):\n",
        "    def __init__(self, radius):\n",
        "        self.radius = radius\n",
        "\n",
        "    def area(self):\n",
        "        print(f\"Circle area: {3.14 * self.radius * self.radius}\")\n"
      ]
    },
    {
      "cell_type": "markdown",
      "id": "fe168de8-5335-478c-9523-afacf8c9a242",
      "metadata": {},
      "source": [
        "## Polymorphism in action\n"
      ]
    },
    {
      "cell_type": "code",
      "execution_count": null,
      "id": "1e9fc9f3-3c42-40af-aa52-e78e63a2825f",
      "metadata": {
        "trusted": true
      },
      "outputs": [
        {
          "name": "stdout",
          "output_type": "stream",
          "text": [
            "Square area: 16\n",
            "Circle area: 28.259999999999998\n",
            "Area is undefined\n"
          ]
        }
      ],
      "source": [
        "shapes = [Square(4), Circle(3), Shape()]\n",
        "for shape in shapes:\n",
        "    shape.area()\n"
      ]
    },
    {
      "cell_type": "code",
      "execution_count": null,
      "id": "74157e80-7ae1-41e9-802a-1922f967aba6",
      "metadata": {
        "trusted": true
      },
      "outputs": [],
      "source": []
    }
  ],
  "metadata": {
    "kernelspec": {
      "display_name": "Python (Pyodide)",
      "language": "python",
      "name": "python"
    },
    "language_info": {
      "codemirror_mode": {
        "name": "python",
        "version": 3
      },
      "file_extension": ".py",
      "mimetype": "text/x-python",
      "name": "python",
      "nbconvert_exporter": "python",
      "pygments_lexer": "ipython3",
      "version": "3.8"
    }
  },
  "nbformat": 4,
  "nbformat_minor": 5
}
