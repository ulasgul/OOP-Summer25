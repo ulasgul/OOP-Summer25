{
  "cells": [
    {
      "cell_type": "markdown",
      "id": "dd95b112-233b-4a1e-8f96-4cfeb8576ae7",
      "metadata": {},
      "source": [
        "# Inheritance\n",
        "A class can inherit methods and attributes from another class using inheritance.\n"
      ]
    },
    {
      "cell_type": "markdown",
      "id": "590d8847-6062-4b38-b903-24ee24796068",
      "metadata": {},
      "source": [
        "## Parent class: Person\n"
      ]
    },
    {
      "cell_type": "code",
      "execution_count": 1,
      "id": "85234588-3816-4bec-82bb-56d16b1f58dc",
      "metadata": {
        "trusted": true
      },
      "outputs": [],
      "source": [
        "class Person:\n",
        "    def __init__(self, first_name, last_name):\n",
        "        self.first_name = first_name\n",
        "        self.last_name = last_name\n",
        "\n",
        "    def display_name(self):\n",
        "        print(f\"Name: {self.first_name} {self.last_name}\")\n"
      ]
    },
    {
      "cell_type": "markdown",
      "id": "3330f8fc-dbb8-411f-872d-2b0b946875f5",
      "metadata": {},
      "source": [
        "## Child Class: Employee"
      ]
    },
    {
      "cell_type": "code",
      "execution_count": 2,
      "id": "bb5b5767-0ab0-454b-9d47-8c54862ff4d1",
      "metadata": {
        "trusted": true
      },
      "outputs": [],
      "source": [
        "class Employee(Person):\n",
        "    def __init__(self, first_name, last_name, school_name):\n",
        "        super().__init__(first_name, last_name)\n",
        "        self.school_name = school_name\n",
        "\n",
        "    def display_info(self):\n",
        "        print(f\"Name: {self.first_name} {self.last_name}, School Name: {self.school_name}\")\n"
      ]
    },
    {
      "cell_type": "markdown",
      "id": "e0294d0f-f11d-4703-bd6e-69e3ebcea1f3",
      "metadata": {},
      "source": [
        "## Child class: Student\n"
      ]
    },
    {
      "cell_type": "code",
      "execution_count": 3,
      "id": "d84636b5-dde9-4ccb-afe1-be63714e7f49",
      "metadata": {
        "trusted": true
      },
      "outputs": [],
      "source": [
        "class Student(Person):\n",
        "    def __init__(self, first_name, last_name, school_name, student_number):\n",
        "        super().__init__(first_name, last_name)\n",
        "        self.student_number = student_number\n",
        "        self.school_name = school_name\n",
        "        \n",
        "    def display_info(self):\n",
        "        print(f\"Name: {self.first_name} {self.last_name}, School Name: {self.school_name}, Student Number: {self.student_number}\")\n"
      ]
    },
    {
      "cell_type": "markdown",
      "id": "4692ee7b-7249-4d4c-ac28-a2e15c4cd53f",
      "metadata": {},
      "source": [
        "## Creating a Student object\n"
      ]
    },
    {
      "cell_type": "code",
      "execution_count": 4,
      "id": "51fbed54-7b1a-4d5b-b762-6cc2e4b04e97",
      "metadata": {
        "trusted": true
      },
      "outputs": [
        {
          "name": "stdout",
          "output_type": "stream",
          "text": [
            "Name: Mehmet Gul, School Name: Wseiz, Student Number: 35422\n",
            "Name: Gokturk Turan, School Name: Yasar\n"
          ]
        }
      ],
      "source": [
        "student1 = Student(\"Mehmet\", \"Gul\", \"Wseiz\", \"35422\")\n",
        "student1.display_info()\n",
        "employee1 = Employee(\"Gokturk\", \"Turan\", \"Yasar\")\n",
        "employee1.display_info()"
      ]
    },
    {
      "cell_type": "code",
      "execution_count": null,
      "id": "688d3de5-c715-4671-abdf-52c4e53376ac",
      "metadata": {
        "trusted": true
      },
      "outputs": [],
      "source": []
    }
  ],
  "metadata": {
    "kernelspec": {
      "display_name": "Python 3",
      "language": "python",
      "name": "python3"
    },
    "language_info": {
      "codemirror_mode": {
        "name": "ipython",
        "version": 3
      },
      "file_extension": ".py",
      "mimetype": "text/x-python",
      "name": "python",
      "nbconvert_exporter": "python",
      "pygments_lexer": "ipython3",
      "version": "3.12.1"
    }
  },
  "nbformat": 4,
  "nbformat_minor": 5
}
